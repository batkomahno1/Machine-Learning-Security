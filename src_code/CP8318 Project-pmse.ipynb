{
 "cells": [
  {
   "cell_type": "markdown",
   "metadata": {},
   "source": [
    "# Overview\n",
    "Kyrylo Rudavskyy  \n",
    "500867152\n",
    "\n",
    "References:  \n",
    "[1]M.-I. Nicolae et al., “Adversarial Robustness Toolbox v1.0.0,” arXiv:1807.01069 [cs, stat], Nov. 2019, Accessed: Dec. 13, 2020. [Online]. Available: http://arxiv.org/abs/1807.01069.\n",
    "\n",
    "[2]I. Gulrajani, F. Ahmed, M. Arjovsky, V. Dumoulin, and A. Courville, “Improved Training of Wasserstein GANs,” arXiv:1704.00028 [cs, stat], Dec. 2017, Accessed: Dec. 13, 2020. [Online]. Available: http://arxiv.org\n",
    "/abs/1704.00028.\n",
    "\n",
    "[3]R. Kohavi, “Scaling Up the Accuracy of Naive-Bayes Classifiers: a Decision-Tree Hybrid,” p. 6, 1996.\n",
    "\n",
    "[4]D. Dua and C. Graff, “UCI machine learning repository,” 2017, [Online]. Available: http://archive.ics.uci.edu/ml.  \n",
    "\n",
    "[5]J. Snoke, G. Raab, B. Nowok, C. Dibben, and A. Slavkovic, “General and specific utility measures for synthetic data,” arXiv:1604.06651 [stat], Jun. 2017, Accessed: Jun. 17, 2020. [Online]. Available: http://arxiv.org/abs/1604.06651.\n",
    "\n",
    "\n",
    "Dependencies:\n",
    "1) Please install this one:\n",
    "https://github.com/Trusted-AI/adversarial-robustness-toolbox  \n",
    "\n",
    "2) This one comes pre-packaged:\n",
    "https://github.com/ydataai/ydata-synthetic"
   ]
  },
  {
   "cell_type": "markdown",
   "metadata": {},
   "source": [
    "# Retrieving and preprocessing data"
   ]
  },
  {
   "cell_type": "code",
   "execution_count": 1,
   "metadata": {},
   "outputs": [],
   "source": [
    "import pandas as pd\n",
    "import numpy as np\n",
    "\n",
    "from sklearn.preprocessing import OneHotEncoder, StandardScaler\n",
    "\n",
    "from pmlb import fetch_data\n",
    "\n",
    "data = fetch_data('adult')\n",
    "\n",
    "numerical_features_str = ['age', 'fnlwgt', \n",
    "                      'capital-gain', 'capital-loss',\n",
    "                      'hours-per-week']\n",
    "\n",
    "numerical_features = [data.columns.get_loc(v) for v in numerical_features_str]\n",
    "\n",
    "categorical_features = ['workclass','education', 'marital-status', \n",
    "                        'occupation', 'relationship',\n",
    "                        'race', 'sex']\n",
    "processed_data = pd.DataFrame()\n",
    "\n",
    "enc = OneHotEncoder(handle_unknown='ignore')\n",
    "processed_data = pd.DataFrame(enc.fit_transform(data[categorical_features]).astype(np.float).toarray())\n",
    "\n",
    "features_map = {i:v for i,v in enumerate(data.columns.values)}\n",
    "\n",
    "processed_data[numerical_features] = data[numerical_features_str].copy()\n",
    "\n",
    "# this is a \"global\" variable\n",
    "sc = StandardScaler()\n"
   ]
  },
  {
   "cell_type": "markdown",
   "metadata": {},
   "source": [
    "# Preparing Data Synthesizer"
   ]
  },
  {
   "cell_type": "code",
   "execution_count": 2,
   "metadata": {},
   "outputs": [],
   "source": [
    "# ref. ydata\n",
    "\n",
    "import sys\n",
    "sys.path.append(\"./ydata-synthetic-master/src\")\n",
    "\n",
    "import importlib\n",
    "import sys  \n",
    "\n",
    "import pandas as pd\n",
    "import numpy as np\n",
    "import sklearn.cluster as cluster\n",
    "import matplotlib.pyplot as plt\n",
    "\n",
    "from ydata_synthetic.synthesizers import WGAN_GP\n",
    "\n",
    "def getSynthData(processed_data):\n",
    "    X=processed_data.copy()\n",
    "\n",
    "    # scale here to unscale at atk stage\n",
    "    X[numerical_features] = sc.fit_transform(X[numerical_features])\n",
    "    \n",
    "    # params from ydata\n",
    "    # GAN training\n",
    "    noise_dim = 32\n",
    "    dim = 128\n",
    "    batch_size = 128\n",
    "\n",
    "    log_step = 100\n",
    "    epochs = 200+1\n",
    "    learning_rate = 5e-4\n",
    "    beta_1 = 0.5\n",
    "    beta_2 = 0.9\n",
    "    models_dir = './cache'\n",
    "\n",
    "    train_sample = X.copy()\n",
    "\n",
    "    gan_args = [batch_size, learning_rate, beta_1, beta_2, noise_dim, train_sample.shape[1], dim]\n",
    "    train_args = ['', epochs, log_step]\n",
    "\n",
    "    seed = 17\n",
    "    test_size = X.shape[0]\n",
    "    noise_dim = 32\n",
    "\n",
    "    synthesizer = WGAN_GP(gan_args, n_critic=2)\n",
    "    synthesizer.train(train_sample, train_args)\n",
    "\n",
    "    var = synthesizer.get_data_batch(train=train_sample, batch_size=test_size, seed=seed).copy()\n",
    "    synth_data = pd.DataFrame(var, columns=X.columns)\n",
    "    \n",
    "    synth_data[numerical_features] = sc.inverse_transform(synth_data[numerical_features])\n",
    "    \n",
    "    return synth_data.copy()"
   ]
  },
  {
   "cell_type": "markdown",
   "metadata": {},
   "source": [
    "# Synthesizing data"
   ]
  },
  {
   "cell_type": "code",
   "execution_count": 3,
   "metadata": {},
   "outputs": [
    {
     "name": "stderr",
     "output_type": "stream",
     "text": [
      "100%|██████████| 201/201 [00:05<00:00, 35.70it/s]\n"
     ]
    }
   ],
   "source": [
    "synth_data = getSynthData(processed_data)"
   ]
  },
  {
   "cell_type": "markdown",
   "metadata": {},
   "source": [
    "# Preparing PMSE function\n",
    "This one uses Decision Tree Classifier as the basis"
   ]
  },
  {
   "cell_type": "code",
   "execution_count": 4,
   "metadata": {},
   "outputs": [],
   "source": [
    "def pmse_compute(original, synthetic, clf=None):\n",
    "    ''' \n",
    "    PMSE is bounded by 0.25 because an array of {0,1} minus 0.5 gives a mean of 0.25 \n",
    "    given a 50/50 synthetic/original split. Smaller is better.\n",
    "    \n",
    "    '''\n",
    "    orig_data, syn_data = original.copy(), synthetic.copy()\n",
    "    \n",
    "    orig_data['synthetic'] = 0\n",
    "    syn_data['synthetic'] = 1\n",
    "    \n",
    "    assert (orig_data.columns==syn_data.columns).all()    \n",
    "    assert orig_data.shape == syn_data.shape, [orig_data.shape, syn_data.shape]\n",
    "    \n",
    "    import pandas as pd\n",
    "    comb_data = pd.concat([orig_data, syn_data], ignore_index=True)#.sample(frac=1).reset_index(drop=True)\n",
    "    \n",
    "    assert orig_data.shape[0]+syn_data.shape[0]==comb_data.shape[0]\n",
    "    \n",
    "    from sklearn.utils import shuffle\n",
    "    comb_data = shuffle(comb_data).reset_index(drop=True)\n",
    "    \n",
    "    X = comb_data.iloc[:,:-1]\n",
    "    y =  comb_data.iloc[:,-1:]\n",
    "    \n",
    "    # make sure to shuffle, otherwise will have one class per set\n",
    "    from sklearn.model_selection import train_test_split\n",
    "    X_train, X_test, y_train, y_test = train_test_split(X, y, test_size=0.5, shuffle=True)\n",
    "    \n",
    "    from sklearn import tree\n",
    "    if clf is None: clf = tree.DecisionTreeClassifier()\n",
    "\n",
    "    clf.fit(X_train, y_train)\n",
    "    pred_prob = clf.predict(X_test)\n",
    "        \n",
    "    N = comb_data.shape[0]\n",
    "    n_syn = syn_data.shape[0]\n",
    "    c = n_syn/N\n",
    "    \n",
    "    assert abs(c-0.5)<1e-10, c\n",
    "    \n",
    "    pmse = ((clf.predict_proba(X_test)[:,1]-c)**2).mean()\n",
    "    \n",
    "    return pmse, X_test.copy(), y_test.copy(), pred_prob, clf"
   ]
  },
  {
   "cell_type": "markdown",
   "metadata": {},
   "source": [
    "# Utility function to plot attack results"
   ]
  },
  {
   "cell_type": "code",
   "execution_count": 5,
   "metadata": {},
   "outputs": [],
   "source": [
    "def plotNoise(original, target_X, X_poisoned, noise=None, name='plot'):\n",
    "    # whne injecting poisoned smaples, noise matrix must be provided\n",
    "    if noise is None: noise = pd.DataFrame(target_X.values-X_poisoned.values)\n",
    "        \n",
    "    from collections import OrderedDict\n",
    "    d = {i:v/target_X[i].sum(axis=0) for i,v in enumerate(noise.sum(axis=0)) if v > 0}\n",
    "    noisy_features = np.array(list(OrderedDict(sorted(d.items(), key=lambda x:x[1], reverse=True)).keys()))[0:5]\n",
    "\n",
    "    print(f'Number of noisy features: {noisy_features.shape[0]}/{target_X.shape[1]}')\n",
    "\n",
    "    print(f'Attack poisoned {np.count_nonzero(noise)}/{target_X.shape[0]*target_X.shape[1]} points or {np.count_nonzero(noise)/(target_X.shape[0]*target_X.shape[1])*100//1}%')\n",
    "    \n",
    "    import matplotlib.pyplot as plt\n",
    "    import seaborn as sns\n",
    "\n",
    "    fig = plt.figure(figsize=(5,10), constrained_layout=True)\n",
    "    spec = fig.add_gridspec(ncols=3, nrows=noisy_features.shape[0])\n",
    "    for i, feature in enumerate(noisy_features):\n",
    "        ax1 = fig.add_subplot(spec[i, 0])#.annotate(f'{features_map[feature]}')\n",
    "        ax1.set_title('Original')\n",
    "        sns.boxenplot(data=original[feature].values)\n",
    "#         plt.boxplot(original[feature].values)\n",
    "        ax2 = fig.add_subplot(spec[i, 1])\n",
    "        ax2.set_title('Poisoned')\n",
    "        sns.boxenplot(data=X_poisoned[feature])\n",
    "#         plt.boxplot(X_poisoned[feature])\n",
    "        ax3 = fig.add_subplot(spec[i, 2])\n",
    "        ax3.set_title('Noise')\n",
    "        sns.boxenplot(data=noise[feature])\n",
    "#         plt.boxplot(noise[feature])\n",
    "    fig.suptitle('Top 5 most altered features', fontsize=16)\n",
    "    plt.savefig(name + '.svg')\n",
    "    plt.show()"
   ]
  },
  {
   "cell_type": "markdown",
   "metadata": {},
   "source": [
    "# Attack: Poisoning original data to decrease PMSE\n",
    "The attack poisons input data so that PMSE will misclassify true labels and yield lower score. Attack uses DecisionTreeAttack.  \n",
    "Input is half of the original data."
   ]
  },
  {
   "cell_type": "code",
   "execution_count": 6,
   "metadata": {},
   "outputs": [],
   "source": [
    "def decrease_pmse(synth_data, verbose=True):\n",
    "    '''The decision tree will misclassify true labels in this attack and cause PMSE to drop'''\n",
    "    _, X, y, pred_prob, clf = pmse_compute(processed_data, synth_data)\n",
    "\n",
    "    idx = (y.values==0).reshape(1,-1)[0]# & (pred_prob == 0)\n",
    "\n",
    "    assert pred_prob[idx].shape[0] !=0, pred_prob[idx]\n",
    "\n",
    "    if verbose: print(f'X size {X.shape}, selected from X {X[idx].shape} {pred_prob[idx].shape}')\n",
    "\n",
    "    assert isinstance(X, pd.DataFrame), type(X)\n",
    "\n",
    "    target_X  = X[idx].copy()\n",
    "    target_y = y[idx].copy()\n",
    "\n",
    "    from art.estimators.classification import SklearnClassifier\n",
    "    victim = SklearnClassifier(model = clf)\n",
    "\n",
    "    from art.attacks.evasion import DecisionTreeAttack\n",
    "    atk = DecisionTreeAttack(victim, offset=0.1)\n",
    "    if verbose: print(atk)\n",
    "    X_poisoned = pd.DataFrame(atk.generate(target_X, target_y))\n",
    "\n",
    "    assert target_X.shape == X[idx].shape and X[idx].shape[0] == target_y.shape[0], [target_X.shape, X[idx].shape, target_y.shape]\n",
    "\n",
    "    poisoned_synth_data = getSynthData(X_poisoned)\n",
    "\n",
    "    pmse_poisoned, _, _, _, _ = pmse_compute(X_poisoned, poisoned_synth_data)\n",
    "\n",
    "    N = X_poisoned.shape[0]\n",
    "\n",
    "    pmse_clean, _, _, _, _ = pmse_compute(target_X.copy(), getSynthData(target_X.copy()))\n",
    "\n",
    "    delta = (pmse_poisoned-pmse_clean)/pmse_poisoned\n",
    "    if verbose: print(f'PMSE clean: {pmse_clean} PMSE poisoned: {pmse_poisoned}')\n",
    "    if verbose: print(f'PMSE changed by {delta*100//1} %')\n",
    "\n",
    "    pmse_input, _, _, _, _ = pmse_compute(target_X, X_poisoned)\n",
    "\n",
    "    if verbose: print(f'Finally, PMSE of original vs poisoned is {pmse_input}')\n",
    "\n",
    "    if verbose: plotNoise(target_X, target_X, X_poisoned, name='decrease_pmse')\n",
    "    \n",
    "    return pmse_clean, pmse_poisoned, pmse_input, delta"
   ]
  },
  {
   "cell_type": "code",
   "execution_count": 7,
   "metadata": {},
   "outputs": [
    {
     "name": "stdout",
     "output_type": "stream",
     "text": [
      "X size (48842, 60), selected from X (24401, 60) (24401,)\n"
     ]
    },
    {
     "name": "stderr",
     "output_type": "stream",
     "text": [
      "Decision tree attack:   0%|          | 0/24401 [00:00<?, ?it/s]"
     ]
    },
    {
     "name": "stdout",
     "output_type": "stream",
     "text": [
      "<art.attacks.evasion.decision_tree_attack.DecisionTreeAttack object at 0x7effb840dcd0>\n"
     ]
    },
    {
     "name": "stderr",
     "output_type": "stream",
     "text": [
      "Decision tree attack: 100%|██████████| 24401/24401 [00:31<00:00, 767.20it/s]\n",
      "100%|██████████| 201/201 [00:04<00:00, 48.49it/s]\n",
      "100%|██████████| 201/201 [00:04<00:00, 48.44it/s]\n"
     ]
    },
    {
     "name": "stdout",
     "output_type": "stream",
     "text": [
      "PMSE clean: 0.21136542673569847 PMSE poisoned: 0.17620328783093098\n",
      "PMSE changed by -20.0 %\n",
      "Finally, PMSE of original vs poisoned is 0.25\n",
      "Number of noisy features: 5/60\n",
      "Attack poisoned 57148/1464060 points or 3.0%\n"
     ]
    },
    {
     "data": {
      "image/png": "[encoded data removed]",
      "text/plain": [
       "<Figure size 360x720 with 15 Axes>"
      ]
     },
     "metadata": {
      "needs_background": "light"
     },
     "output_type": "display_data"
    },
    {
     "data": {
      "text/plain": [
       "(0.21136542673569847, 0.17620328783093098, 0.25, -0.19955438594599867)"
      ]
     },
     "execution_count": 7,
     "metadata": {},
     "output_type": "execute_result"
    }
   ],
   "source": [
    "decrease_pmse(synth_data)"
   ]
  },
  {
   "cell_type": "markdown",
   "metadata": {},
   "source": [
    "# Get Performance Stats without Re-Synthesizing Data"
   ]
  },
  {
   "cell_type": "code",
   "execution_count": 8,
   "metadata": {},
   "outputs": [],
   "source": [
    "def plot_atk_results(type_one, type_two, name='plot'):\n",
    "    # make into arrays for easier plotting\n",
    "    if not isinstance(type_one, type(np.array)): type_one = np.array(type_one)\n",
    "\n",
    "    _, d = type_one.shape\n",
    "\n",
    "    import matplotlib.pyplot as plt\n",
    "    import seaborn as sns\n",
    "\n",
    "    fig = plt.figure(figsize=(5,10), constrained_layout=True)\n",
    "    spec = fig.add_gridspec(ncols=1, nrows=d)\n",
    "\n",
    "    # plot type one and two\n",
    "    # pmse_clean, pmse_poisoned, pmse_input, delta\n",
    "    fig = plt.figure(figsize=(10,5), constrained_layout=True)\n",
    "    spec = fig.add_gridspec(ncols=d, nrows=2)\n",
    "\n",
    "    # plot type one\n",
    "    # pmse_clean, pmse_poisoned, pmse_input, delta\n",
    "    fontsize=8\n",
    "    ax1 = fig.add_subplot(spec[0, 0])\n",
    "    ax1.set_title('PMSE Clean Orig v Syn', fontsize=fontsize)\n",
    "    plt.boxplot(type_one[:, 0])\n",
    "\n",
    "    ax2 = fig.add_subplot(spec[0, 1])\n",
    "    ax2.set_title('PMSE Poisoned Orig v Syn', fontsize=fontsize)\n",
    "    plt.boxplot(type_one[:, 1])\n",
    "\n",
    "    ax3 = fig.add_subplot(spec[0, 2])\n",
    "    ax3.set_title('PMSE % chg', fontsize=fontsize)\n",
    "    plt.boxplot(type_one[:, 3])\n",
    "\n",
    "    ax4 = fig.add_subplot(spec[0, 3])\n",
    "    ax4.set_title('PMSE Clean v Poisoned Orig', fontsize=fontsize)\n",
    "    plt.boxplot(type_one[:, 2])\n",
    "\n",
    "    fig.suptitle(name, fontsize=14)\n",
    "    plt.savefig(name + '.svg')\n",
    "    plt.show()"
   ]
  },
  {
   "cell_type": "markdown",
   "metadata": {},
   "source": [
    "# Get Performance Stats with Re-Synthesizing Data"
   ]
  },
  {
   "cell_type": "markdown",
   "metadata": {},
   "source": [
    "Uncomment to run. Takes a long time."
   ]
  },
  {
   "cell_type": "code",
   "execution_count": 9,
   "metadata": {},
   "outputs": [],
   "source": [
    "# num_runs = 10\n",
    "# type_one_reinit = []\n",
    "# for i in range(num_runs):\n",
    "#     print(f'Processing syndata')\n",
    "#     del synth_data\n",
    "#     synth_data = getSynthData(processed_data)\n",
    "#     var = decrease_pmse(synth_data, verbose=False)\n",
    "#     type_one_reinit.append(var)\n",
    "# plot_atk_results(type_one_reinit, type_two_reinit, name='Attack Results')"
   ]
  }
 ],
 "metadata": {
  "kernelspec": {
   "display_name": "Python 3",
   "language": "python",
   "name": "python3"
  },
  "language_info": {
   "codemirror_mode": {
    "name": "ipython",
    "version": 3
   },
   "file_extension": ".py",
   "mimetype": "text/x-python",
   "name": "python",
   "nbconvert_exporter": "python",
   "pygments_lexer": "ipython3",
   "version": "3.8.3"
  }
 },
 "nbformat": 4,
 "nbformat_minor": 4
}
